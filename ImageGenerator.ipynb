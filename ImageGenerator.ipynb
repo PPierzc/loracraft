{
 "cells": [
  {
   "cell_type": "code",
   "execution_count": null,
   "metadata": {
    "collapsed": true
   },
   "outputs": [],
   "source": [
    "!rm -rf loracraft\n",
    "!git clone https://github.com/PPierzc/loracraft.git\n",
    "!mv loracraft loracraft-git\n",
    "!mv loracraft-git/* .\n",
    "!rm -rf loracraft-git"
   ]
  },
  {
   "cell_type": "code",
   "execution_count": null,
   "outputs": [],
   "source": [
    "!pip install -r requirements.txt"
   ],
   "metadata": {
    "collapsed": false,
    "pycharm": {
     "is_executing": true
    }
   }
  },
  {
   "cell_type": "code",
   "execution_count": null,
   "outputs": [],
   "source": [
    "import json\n",
    "import torch\n",
    "import os\n",
    "from loracraft.pipeline import get_pipeline\n",
    "from loracraft.generator_utils import save_image"
   ],
   "metadata": {
    "collapsed": false
   }
  },
  {
   "cell_type": "code",
   "execution_count": null,
   "outputs": [],
   "source": [
    "with open (\"/content/lora_db.json\", 'r') as f:\n",
    "    lora_db = json.load(f)"
   ],
   "metadata": {
    "collapsed": false
   }
  },
  {
   "cell_type": "code",
   "execution_count": null,
   "outputs": [],
   "source": [
    "config = {\n",
    "    \"loras\": [\"SewingDoll\", \"CinematicPainting\"],\n",
    "    \"weights\": [0.7, 0.3],\n",
    "    \"prompts\": [\"Test shit\"],\n",
    "    \"trials\": 1,\n",
    "\n",
    "    'images_path': '/content/output/sewingdoll-cinematic/',\n",
    "    'seed': 42,\n",
    "    'pipeline_kwargs': {\n",
    "        'num_inference_steps': 1,\n",
    "        \"guidance_scale\": 0,\n",
    "    }\n",
    "}"
   ],
   "metadata": {
    "collapsed": false
   }
  },
  {
   "cell_type": "code",
   "execution_count": null,
   "outputs": [],
   "source": [
    "## create pipeline\n",
    "pipe = get_pipeline()"
   ],
   "metadata": {
    "collapsed": false
   }
  },
  {
   "cell_type": "code",
   "execution_count": null,
   "outputs": [],
   "source": [
    "# Download required LoRAs\n",
    "for lora in config[\"loras\"]:\n",
    "\n",
    "    lora_path = f\"{lora}.safetensors\"\n",
    "    lora_wget = lora_db[lora][\"wget_link\"]\n",
    "\n",
    "    if not os.path.exists(lora_path):\n",
    "        ! wget $lora_wget -O $lora_path\n",
    "\n",
    "    pipe.load_lora_weights(\n",
    "        lora_path,\n",
    "        adapter_name=lora\n",
    "    )"
   ],
   "metadata": {
    "collapsed": false
   }
  },
  {
   "cell_type": "code",
   "execution_count": null,
   "outputs": [],
   "source": [
    "pipe.set_adapters(config[\"loras\"], adapter_weights=config[\"weights\"])"
   ],
   "metadata": {
    "collapsed": false
   }
  },
  {
   "cell_type": "markdown",
   "source": [],
   "metadata": {
    "collapsed": false
   }
  },
  {
   "cell_type": "code",
   "execution_count": null,
   "outputs": [],
   "source": [
    "for trial in range(config['trials']):\n",
    "    for prompt in config['prompts']:\n",
    "        image = pipe(\n",
    "            prompt=prompt,\n",
    "            generator=torch.manual_seed(config['seed']),\n",
    "            **config['pipeline_kwargs']\n",
    "        ).images[0]\n",
    "        save_image(image, config, prompt=prompt, trial=trial)"
   ],
   "metadata": {
    "collapsed": false
   }
  }
 ],
 "metadata": {
  "kernelspec": {
   "display_name": "Python 3",
   "language": "python",
   "name": "python3"
  },
  "language_info": {
   "codemirror_mode": {
    "name": "ipython",
    "version": 2
   },
   "file_extension": ".py",
   "mimetype": "text/x-python",
   "name": "python",
   "nbconvert_exporter": "python",
   "pygments_lexer": "ipython2",
   "version": "2.7.6"
  }
 },
 "nbformat": 4,
 "nbformat_minor": 0
}
