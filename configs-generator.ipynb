{
 "cells": [
  {
   "cell_type": "code",
   "execution_count": 4,
   "id": "f07a3fec",
   "metadata": {},
   "outputs": [],
   "source": [
    "from itertools import combinations"
   ]
  },
  {
   "cell_type": "code",
   "execution_count": 7,
   "id": "1bf655d5",
   "metadata": {},
   "outputs": [],
   "source": [
    "import json\n",
    "import copy\n",
    "\n",
    "# Load LoRAs configuration\n",
    "with open('lora_db.json') as file:\n",
    "    loras_db = json.load(file)"
   ]
  },
  {
   "cell_type": "code",
   "execution_count": 11,
   "id": "d0c62458",
   "metadata": {},
   "outputs": [],
   "source": [
    "loras = list(loras_db.keys())"
   ]
  },
  {
   "cell_type": "code",
   "execution_count": 17,
   "id": "d85a61f6",
   "metadata": {},
   "outputs": [],
   "source": [
    "import pandas as pd"
   ]
  },
  {
   "cell_type": "code",
   "execution_count": 22,
   "id": "31c3f449",
   "metadata": {},
   "outputs": [],
   "source": [
    "def combinations_2(loras, n):\n",
    "    for lora in loras:\n",
    "        for rest_of_loras in combinations(loras[1:], n -1):\n",
    "            yield [lora] + list(rest_of_loras)\n",
    "\n",
    "# pd.DataFrame(list(combinations_2(loras, 3))).to_csv('test.csv')"
   ]
  },
  {
   "cell_type": "code",
   "execution_count": 20,
   "id": "d226182d",
   "metadata": {},
   "outputs": [],
   "source": [
    "config_template = {\n",
    "    \"loras\": [],\n",
    "    \"weights\": [],\n",
    "    \"prompts\": [\"\"],\n",
    "    \"trials\": 1,\n",
    "    'images_path': '',\n",
    "    'seed': 42,\n",
    "    'pipeline_kwargs': {\n",
    "        'num_inference_steps': 1,\n",
    "        \"guidance_scale\": 0,\n",
    "    }\n",
    "}\n"
   ]
  },
  {
   "cell_type": "code",
   "execution_count": 21,
   "id": "aa548617",
   "metadata": {},
   "outputs": [
    {
     "name": "stdout",
     "output_type": "stream",
     "text": [
      "Enter the number of LoRAs to include in each configuration: 3\n",
      "All configurations saved to ./all_configs_exact_3.json.\n"
     ]
    }
   ],
   "source": [
    "def generate_configs(loras_db, num_loras):\n",
    "    configs = []\n",
    "\n",
    "    for loras_tuple in combinations_2(loras, num_loras):\n",
    "        main_lora = loras_tuple[0]\n",
    "        other_loras = loras_tuple[1:]\n",
    "        \n",
    "        config = copy.deepcopy(config_template)\n",
    "        config['loras'] = [main_lora] + other_loras\n",
    "        config['weights'] = [1] * num_loras\n",
    "\n",
    "        config['prompts'] = [loras_db[main_lora]['triggers'][0]] if loras_db[main_lora]['triggers'] else [\"\"]\n",
    "\n",
    "        config['images_path'] = f\"./output/{main_lora.lower()}-{'-'.join(other_loras).lower()}/\"\n",
    "\n",
    "        configs.append(config)\n",
    "\n",
    "    all_configs_path = f'./all_configs_exact_{num_loras}.json'\n",
    "    with open(all_configs_path, 'w') as file:\n",
    "        json.dump(configs, file, indent=4)\n",
    "\n",
    "    print(f\"All configurations saved to {all_configs_path}.\")\n",
    "\n",
    "\n",
    "num_loras = int(input(\"Enter the number of LoRAs to include in each configuration: \"))\n",
    "generate_configs(loras_db, num_loras)"
   ]
  },
  {
   "cell_type": "code",
   "execution_count": null,
   "id": "60edd513",
   "metadata": {},
   "outputs": [],
   "source": []
  }
 ],
 "metadata": {
  "kernelspec": {
   "display_name": "Python 3 (ipykernel)",
   "language": "python",
   "name": "python3"
  },
  "language_info": {
   "codemirror_mode": {
    "name": "ipython",
    "version": 3
   },
   "file_extension": ".py",
   "mimetype": "text/x-python",
   "name": "python",
   "nbconvert_exporter": "python",
   "pygments_lexer": "ipython3",
   "version": "3.8.15"
  }
 },
 "nbformat": 4,
 "nbformat_minor": 5
}
